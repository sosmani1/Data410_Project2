{
  "cells": [
    {
      "cell_type": "markdown",
      "source": [
        "# Advanced Machine Learning Project 2"
      ],
      "metadata": {
        "id": "RI2ZepO64osu"
      }
    },
    {
      "cell_type": "code",
      "execution_count": null,
      "metadata": {
        "id": "Zm3JbEAvJ4QO"
      },
      "outputs": [],
      "source": [
        "# importing some relevant libraries\n",
        "import numpy as np\n",
        "import pandas as pd\n",
        "from scipy import linalg\n",
        "import matplotlib.pyplot as plt\n",
        "from scipy.interpolate import interp1d\n",
        "from sklearn.ensemble import RandomForestRegressor\n",
        "from sklearn.model_selection import KFold, train_test_split as tts\n",
        "from sklearn.metrics import mean_squared_error as mse\n",
        "from sklearn.preprocessing import StandardScaler"
      ]
    },
    {
      "cell_type": "markdown",
      "source": [
        "## DEFINITIONS/INFO ABOUT THE LOCALLY WEIGHTED REGRESSION AND RANDOM FOREST REGRESSION\n",
        "\n",
        "### Locally Weighted Regression: \n",
        "\n",
        "Locally weighted regression is a way of estimating a regression surface through a multivariate smoothing procedure, fitting a function of the independent variables locally and in a moving fashion analogous to how a moving average is computed for a time series. With local fitting we can estimate a much wider class of regression surfaces than with the usual classes of parametric functions, such as polynomials.\n",
        "\n",
        "\n",
        "\n",
        "### Random Forest Regressions:\n",
        "\n",
        "Random forest is a type of supervised learning algorithm that uses ensemble methods (bagging) to solve both regression and classification problems. The algorithm operates by constructing a multitude of decision trees at training time and outputting the mean/mode of prediction of the individual trees. This is personally one of my favorite types of regressions methods. This is because of the wide application this can be utilized. Personally I am using this method with boosting methods such as **catboost and XgBoost**. \n",
        "\n"
      ],
      "metadata": {
        "id": "Cha1nCAD8ni1"
      }
    },
    {
      "cell_type": "markdown",
      "source": [
        "### Defining the Kernel and Regression functions:"
      ],
      "metadata": {
        "id": "ak3KvK3i63Hn"
      }
    },
    {
      "cell_type": "code",
      "execution_count": null,
      "metadata": {
        "id": "pzzzrcxiWkCk"
      },
      "outputs": [],
      "source": [
        "# Tricubic Kernel\n",
        "def tricubic(x):\n",
        "  return np.where(np.abs(x)>1,0,70/81*(1-np.abs(x)**3)**3)"
      ]
    },
    {
      "cell_type": "code",
      "execution_count": null,
      "metadata": {
        "id": "T3sDETRUWix9"
      },
      "outputs": [],
      "source": [
        "# Epanechnikov Kernel\n",
        "def Epanechnikov(x):\n",
        "  return np.where(np.abs(x)>1,0,3/4*(1-np.abs(x)**2)) "
      ]
    },
    {
      "cell_type": "code",
      "execution_count": null,
      "metadata": {
        "id": "AgQN9SOgZqNa"
      },
      "outputs": [],
      "source": [
        "# Quartic Kernel\n",
        "def Quartic(x):\n",
        "  return np.where(np.abs(x)>1,0,15/16*(1-np.abs(x)**2)**2) "
      ]
    },
    {
      "cell_type": "code",
      "execution_count": null,
      "metadata": {
        "id": "Z00NMJ5eLcG9"
      },
      "outputs": [],
      "source": [
        "def lowess_kern(x, y, kern, tau):\n",
        "\n",
        "    # tau is called bandwidth K((x-x[i])/(2*tau))\n",
        "\n",
        "    n = len(x)\n",
        "    yest = np.zeros(n)\n",
        "\n",
        "    #Initializing all weights from the kernel function by using only the train data    \n",
        "    w = np.array([kern((x - x[i])/(2*tau)) for i in range(n)])     \n",
        "    \n",
        "    #Looping through all x-points\n",
        "    for i in range(n):\n",
        "        weights = w[:, i]\n",
        "        b = np.array([np.sum(weights * y), np.sum(weights * y * x)])\n",
        "        A = np.array([[np.sum(weights), np.sum(weights * x)],\n",
        "                    [np.sum(weights * x), np.sum(weights * x * x)]])\n",
        "        theta, res, rnk, s = linalg.lstsq(A, b)\n",
        "        yest[i] = theta[0] + theta[1] * x[i] \n",
        "\n",
        "    return yest\n",
        "\n",
        "def lowess_reg(x, y, xnew, kern, tau):\n",
        "    # tau is called bandwidth K((x-x[i])/(2*tau))\n",
        "    # IMPORTANT: we expect x to the sorted increasingly\n",
        "    n = len(x)\n",
        "    yest = np.zeros(n)\n",
        "\n",
        "    #Initializing all weights from the bell shape kernel function    \n",
        "    w = np.array([kern((x - x[i])/(2*tau)) for i in range(n)])     \n",
        "    \n",
        "    #Looping through all x-points\n",
        "    for i in range(n):\n",
        "        weights = w[:, i]\n",
        "        b = np.array([np.sum(weights * y), np.sum(weights * y * x)])\n",
        "        A = np.array([[np.sum(weights), np.sum(weights * x)],\n",
        "                    [np.sum(weights * x), np.sum(weights * x * x)]])\n",
        "        #theta = linalg.solve(A, b) # A*theta = b\n",
        "        theta, res, rnk, s = linalg.lstsq(A, b)\n",
        "        yest[i] = theta[0] + theta[1] * x[i] \n",
        "    f = interp1d(x, yest,fill_value='extrapolate')\n",
        "    return f(xnew)"
      ]
    },
    {
      "cell_type": "markdown",
      "source": [
        "Defining input and output variable, creating a train test split:"
      ],
      "metadata": {
        "id": "lsxys6Yl7B0D"
      }
    },
    {
      "cell_type": "code",
      "execution_count": null,
      "metadata": {
        "id": "8fof9QkYLyb0"
      },
      "outputs": [],
      "source": [
        "data = pd.read_csv('Boston Housing Prices.csv')"
      ]
    },
    {
      "cell_type": "markdown",
      "source": [
        "Scatterplot of Rooms vs Cmedv:"
      ],
      "metadata": {
        "id": "4LVLJ0p87P2R"
      }
    },
    {
      "cell_type": "code",
      "execution_count": null,
      "metadata": {
        "colab": {
          "base_uri": "https://localhost:8080/",
          "height": 282
        },
        "id": "7iJD4FsYL4FM",
        "outputId": "7c58f4eb-a93f-4ec6-c050-e5d64bf8e5af"
      },
      "outputs": [
        {
          "output_type": "execute_result",
          "data": {
            "text/plain": [
              "<matplotlib.collections.PathCollection at 0x7ff59010c110>"
            ]
          },
          "metadata": {},
          "execution_count": 413
        },
        {
          "output_type": "display_data",
          "data": {
            "image/png": "[encoded data removed]",
            "text/plain": [
              "<Figure size 432x288 with 1 Axes>"
            ]
          },
          "metadata": {
            "needs_background": "light"
          }
        }
      ],
      "source": [
        "x = np.array(data['rooms']).reshape(-1,1)\n",
        "y = np.array(data['cmedv']).reshape(-1,1)\n",
        "plt.scatter(x,y)"
      ]
    },
    {
      "cell_type": "code",
      "execution_count": null,
      "metadata": {
        "id": "vHTUGosjMACC"
      },
      "outputs": [],
      "source": [
        "# we want to split the data into a train/test set and we want to standardize correctly\n",
        "xtrain, xtest, ytrain, ytest = tts(x,y,test_size=0.25, random_state=123)"
      ]
    },
    {
      "cell_type": "markdown",
      "source": [
        "Code to create a plot of x vs. y with the y-hat values superimposed:"
      ],
      "metadata": {
        "id": "hcxaPGa27Xl1"
      }
    },
    {
      "cell_type": "code",
      "source": [
        "dat = np.concatenate([xtrain,ytrain.reshape(-1,1)], axis=1)\n",
        "\n",
        "# this is sorting the rows based on the first column\n",
        "dat = dat[np.argsort(dat[:, 0])]\n",
        "\n",
        "dat_test = np.concatenate([xtest,ytest.reshape(-1,1)], axis=1)\n",
        "dat_test = dat_test[np.argsort(dat_test[:, 0])]\n",
        "Yhat_lowess = lowess_kern(dat[:,0],dat[:,1],Epanechnikov,0.6)\n",
        "datl = np.concatenate([dat[:,0].reshape(-1,1),Yhat_lowess.reshape(-1,1)], axis=1)\n",
        "f = interp1d(datl[:,0], datl[:,1],fill_value='extrapolate')\n",
        "\n",
        "yhat = f(dat_test[:,0])"
      ],
      "metadata": {
        "id": "4Er1BZYHEtxe"
      },
      "execution_count": null,
      "outputs": []
    },
    {
      "cell_type": "code",
      "source": [
        "fig, ax = plt.subplots(figsize=(10,8))\n",
        "ax.set_xlim(3, 9)\n",
        "ax.set_ylim(0, 51)\n",
        "ax.scatter(x=data['rooms'], y=data['cmedv'],s=25)\n",
        "ax.plot(dat_test[:,0], yhat, color='orange',lw=3)\n",
        "ax.set_xlabel('Number of Rooms',fontsize=16,color='Darkgreen')\n",
        "ax.set_ylabel('House Price (Tens of Thousands of Dollars)',fontsize=16,color='Darkgreen')\n",
        "ax.set_title('Boston Housing Prices',fontsize=16,color='purple')"
      ],
      "metadata": {
        "colab": {
          "base_uri": "https://localhost:8080/",
          "height": 537
        },
        "id": "H0Eyol6-FZen",
        "outputId": "83e57727-0e5a-4396-af00-00568f0d9141"
      },
      "execution_count": null,
      "outputs": [
        {
          "output_type": "execute_result",
          "data": {
            "text/plain": [
              "Text(0.5, 1.0, 'Boston Housing Prices')"
            ]
          },
          "metadata": {},
          "execution_count": 417
        },
        {
          "output_type": "display_data",
          "data": {
            "image/png": "[encoded data removed]",
            "text/plain": [
              "<Figure size 720x576 with 1 Axes>"
            ]
          },
          "metadata": {
            "needs_background": "light"
          }
        }
      ]
    },
    {
      "cell_type": "code",
      "source": [
        "x = data['rooms'].values\n",
        "y = data['cmedv'].values"
      ],
      "metadata": {
        "id": "v1Pgwj0mI-tF"
      },
      "execution_count": null,
      "outputs": []
    },
    {
      "cell_type": "code",
      "source": [
        "xtrain, xtest, ytrain, ytest = tts(x,y,test_size=0.25, random_state=123)"
      ],
      "metadata": {
        "id": "53U9iIObJJ7M"
      },
      "execution_count": null,
      "outputs": []
    },
    {
      "cell_type": "markdown",
      "source": [
        "Applying locally weighted regression to the Boston Housing Data Set:"
      ],
      "metadata": {
        "id": "VLU3KPV77585"
      }
    },
    {
      "cell_type": "code",
      "source": [
        "scale = StandardScaler()\n",
        "xtrain_scaled = scale.fit_transform((xtrain).reshape(-1,1))\n",
        "xtest_scaled = scale.transform((xtest).reshape(-1,1))"
      ],
      "metadata": {
        "id": "O0gzmqNKG4lU"
      },
      "execution_count": null,
      "outputs": []
    },
    {
      "cell_type": "code",
      "source": [
        "yhat_test = lowess_reg(xtrain_scaled.ravel(),ytrain,xtest_scaled,tricubic,0.1)"
      ],
      "metadata": {
        "id": "z7PJUM2DHwKM"
      },
      "execution_count": null,
      "outputs": []
    },
    {
      "cell_type": "code",
      "source": [
        "mse(yhat_test,ytest)"
      ],
      "metadata": {
        "colab": {
          "base_uri": "https://localhost:8080/"
        },
        "id": "hTe4TaECJNDU",
        "outputId": "7f2c3942-fe18-4155-e39b-70871220a71a"
      },
      "execution_count": null,
      "outputs": [
        {
          "output_type": "execute_result",
          "data": {
            "text/plain": [
              "43.818769754447246"
            ]
          },
          "metadata": {},
          "execution_count": 423
        }
      ]
    },
    {
      "cell_type": "markdown",
      "source": [
        "Applying Random Forest Regression to the Boston Housing Data Set:"
      ],
      "metadata": {
        "id": "9oijQc-t8G4O"
      }
    },
    {
      "cell_type": "code",
      "execution_count": null,
      "metadata": {
        "id": "rUFTjZwXf0eh"
      },
      "outputs": [],
      "source": [
        "rf = RandomForestRegressor(n_estimators=100,max_depth=3)"
      ]
    },
    {
      "cell_type": "code",
      "execution_count": null,
      "metadata": {
        "colab": {
          "base_uri": "https://localhost:8080/"
        },
        "id": "Q_AMtOhZfuoP",
        "outputId": "8c26ed4b-12cd-480c-f6fe-7661d0b124c9"
      },
      "outputs": [
        {
          "output_type": "execute_result",
          "data": {
            "text/plain": [
              "RandomForestRegressor(max_depth=3)"
            ]
          },
          "metadata": {},
          "execution_count": 425
        }
      ],
      "source": [
        "rf.fit(xtrain_scaled,ytrain)"
      ]
    },
    {
      "cell_type": "code",
      "execution_count": null,
      "metadata": {
        "colab": {
          "base_uri": "https://localhost:8080/"
        },
        "id": "0mvYILdVgEld",
        "outputId": "eda33b3f-5962-4eb8-8c56-e8b6dba4c9d1"
      },
      "outputs": [
        {
          "output_type": "execute_result",
          "data": {
            "text/plain": [
              "44.06947431480829"
            ]
          },
          "metadata": {},
          "execution_count": 426
        }
      ],
      "source": [
        "mse(ytest,rf.predict(xtest_scaled))"
      ]
    },
    {
      "cell_type": "code",
      "execution_count": null,
      "metadata": {
        "id": "UAtspiRRSyL8"
      },
      "outputs": [],
      "source": [
        "yhat_test = lowess_reg(xtrain_scaled.ravel(),ytrain,xtest_scaled.ravel(),tricubic,0.1)"
      ]
    },
    {
      "cell_type": "markdown",
      "source": [
        "Calculating crossvalidated mean squared error for both methods:"
      ],
      "metadata": {
        "id": "oWHzl9gD8P5p"
      }
    },
    {
      "cell_type": "code",
      "execution_count": null,
      "metadata": {
        "id": "OEJtIP3fhRa9"
      },
      "outputs": [],
      "source": [
        "kf = KFold(n_splits=10,shuffle=True,random_state=310)\n",
        "mse_lwr = []\n",
        "mse_rf = []"
      ]
    },
    {
      "cell_type": "code",
      "execution_count": null,
      "metadata": {
        "id": "Vt7P_LQumrSS"
      },
      "outputs": [],
      "source": [
        "rf = RandomForestRegressor(n_estimators=100,max_depth=3)"
      ]
    },
    {
      "cell_type": "code",
      "execution_count": null,
      "metadata": {
        "id": "8VF7sY-2htUT"
      },
      "outputs": [],
      "source": [
        "mse_lwr = []\n",
        "mse_rf = []\n",
        "\n",
        "for idxtrain,idxtest in kf.split(x):\n",
        "  ytrain = y[idxtrain]\n",
        "  xtrain = x[idxtrain]\n",
        "  xtrain = scale.fit_transform(xtrain.reshape(-1,1))\n",
        "  ytest = y[idxtest]\n",
        "  xtest = x[idxtest]\n",
        "  xtest = scale.transform(xtest.reshape(-1,1))\n",
        "  yhat_lwr = lowess_reg(xtrain.ravel(),ytrain,xtest.ravel(),tricubic,0.5)\n",
        "  rf.fit(xtrain,ytrain)\n",
        "  yhat_rf = rf.predict(xtest)\n",
        "  mse_lwr.append(mse(ytest,yhat_lwr))\n",
        "  mse_rf.append(mse(ytest,yhat_rf))"
      ]
    },
    {
      "cell_type": "code",
      "execution_count": null,
      "metadata": {
        "colab": {
          "base_uri": "https://localhost:8080/"
        },
        "id": "RFCDiXPbjeNO",
        "outputId": "3b18bab3-ef07-46f5-8fed-a6e886c1b159"
      },
      "outputs": [
        {
          "output_type": "execute_result",
          "data": {
            "text/plain": [
              "36.6550430330479"
            ]
          },
          "metadata": {},
          "execution_count": 431
        }
      ],
      "source": [
        "np.mean(mse_lwr)"
      ]
    },
    {
      "cell_type": "code",
      "execution_count": null,
      "metadata": {
        "colab": {
          "base_uri": "https://localhost:8080/"
        },
        "id": "4VetGTeGkpYL",
        "outputId": "f7276d04-d21c-43e9-c476-d1c8f2485c08"
      },
      "outputs": [
        {
          "output_type": "execute_result",
          "data": {
            "text/plain": [
              "35.881965942428394"
            ]
          },
          "metadata": {},
          "execution_count": 432
        }
      ],
      "source": [
        "np.mean(mse_rf)"
      ]
    },
    {
      "cell_type": "markdown",
      "source": [
        "The random forest regression model has a lower MSE and therefore achieved better results."
      ],
      "metadata": {
        "id": "LeQ8MJ7T8YLo"
      }
    }
  ],
  "metadata": {
    "colab": {
      "collapsed_sections": [],
      "name": "Project2.ipynb",
      "provenance": []
    },
    "kernelspec": {
      "display_name": "Python 3",
      "name": "python3"
    },
    "language_info": {
      "name": "python"
    }
  },
  "nbformat": 4,
  "nbformat_minor": 0
}